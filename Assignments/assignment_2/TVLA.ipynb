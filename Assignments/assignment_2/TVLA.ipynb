{
 "cells": [
  {
   "cell_type": "markdown",
   "metadata": {},
   "source": [
    "# TVLA\n"
   ]
  },
  {
   "cell_type": "markdown",
   "metadata": {},
   "source": [
    "# Exercise 1: protected masked AES\n",
    "\n",
    "Leakage evaluation on a protected masked AES implementation.\n",
    "We have implemented a mask-AES and loaded the firmware on an ARM Cortex M0, which was modified for the collection of traces. The set of traces we collected are available to you here.\n",
    "\n",
    "Random_dataset: https://mega.nz/file/txICQRDD#GnToWJhHZomYbgIzVT2nPEGcJWtJZR1V_zJ4wF-fOfo\n",
    "\n",
    "Fixed_dataset: https://mega.nz/file/Zg5S2ALJ#5VnCzNcoZDOxQuZVzH_6a-OKOsxw4eYrw-_xMic6NAY"
   ]
  },
  {
   "cell_type": "code",
   "execution_count": null,
   "metadata": {},
   "outputs": [],
   "source": [
    "from scipy import stats\n",
    "import numpy as np\n",
    "import os\n",
    "import matplotlib.pyplot as plt\n",
    "from tqdm import tqdm"
   ]
  },
  {
   "cell_type": "markdown",
   "metadata": {},
   "source": [
    "## Step 1.\n",
    "\n",
    "After loading the relevant libraries, it is now time to read the datafiles. We are provided with the following files:\n",
    "\n",
    "TVLA_random_dataset.npy, the traces are measured while the board is performing first round of a masked AES encryption while the data is randomly changing.\n",
    "\n",
    "TVLA_fix_dataset.npy , the traces are measured while the board is performing first round of a masked AES encryption while the data is fixed. \n",
    "\n",
    "Let's load these datafiles and figure out how many traces we have in the trace set file and how many samples each trace has.\n",
    "\n",
    "Don't forget to check the alignment before any other step. "
   ]
  },
  {
   "cell_type": "code",
   "execution_count": null,
   "metadata": {},
   "outputs": [],
   "source": [
    "\n"
   ]
  },
  {
   "cell_type": "markdown",
   "metadata": {},
   "source": [
    "## Step 2.\n",
    "\n",
    "1- Use the function `stats.ttest_ind` to compute the t-test. \n",
    "\n",
    "2- Check the result with the threshold `(+/- 4.5)` to find the leaky points.\n",
    "\n",
    "3- Print number of the leaky points and plot the result graph beside the threshold lines"
   ]
  },
  {
   "cell_type": "code",
   "execution_count": null,
   "metadata": {},
   "outputs": [],
   "source": []
  },
  {
   "cell_type": "markdown",
   "metadata": {},
   "source": [
    "# Exercise 2: Convolutional neural network\n",
    "\n",
    "In this exercise, we are going to analyze traces that consist of measurements of electromagnetic (EM) emanations. The target algorithm will be the execution of the first layer in a convolutional neural network (CNN). The CNN is implented on the  GPU of the Jetson Orin Nano and the EM emanations are captured  during the execution of the first layer. One set of traces is collected with fixed and one set is collected with random inputs.\n",
    "\n",
    "The supplied dataset ``gpu_conv_l1.trs``\n",
    "already contains these traces and your task is to assess the leakage in these traces. Be aware, however, a complete and successful leakage evaluation might require data preprocessing of the collected raw traces.\n",
    "\n",
    "\n",
    "Dataset: https://mega.nz/file/F5gxTAbD#Owx7SPw4eeidFMUCjoWk1uzKxBFLdsqxsD257cnpAWM"
   ]
  },
  {
   "cell_type": "code",
   "execution_count": null,
   "metadata": {},
   "outputs": [],
   "source": [
    "!pip install trsfile"
   ]
  },
  {
   "cell_type": "code",
   "execution_count": null,
   "metadata": {},
   "outputs": [],
   "source": [
    "import trsfile"
   ]
  },
  {
   "cell_type": "code",
   "execution_count": null,
   "metadata": {},
   "outputs": [],
   "source": [
    "group1 = []\n",
    "group2 = []\n",
    "\n",
    "### load the traceset file\n",
    "traceFileName = \"gpu_conv_l1.trs\"\n",
    "traceFile = trsfile.trs_open(traceFileName, mode='r')\n",
    "\n",
    "\n",
    "### we separate the traces according to their label, i.e. whether they belong to group 1 (fixed) or group 2 (random)\n",
    "for trace in traceFile:\n",
    "    group = trace.parameters[\"LEGACY_DATA\"].value[0]\n",
    "    if group == 1:\n",
    "        group1.append(trace.samples)\n",
    "    elif group == 0:\n",
    "        group2.append(trace.samples)\n",
    "    else:\n",
    "        print(\"Invalid parameter...\")\n",
    "        \n",
    "traceFile.close()\n",
    "group1 = np.array(group1)\n",
    "group2 = np.array(group2)"
   ]
  },
  {
   "cell_type": "markdown",
   "metadata": {},
   "source": [
    "## Step 1.\n",
    "\n",
    "Run TVLA on the loaded groups and create a plot with the results of TVLA. In addition to the t-test plot, create a line at the 4.5 threshold to easily visualize the leaking time points."
   ]
  },
  {
   "cell_type": "code",
   "execution_count": null,
   "metadata": {},
   "outputs": [],
   "source": []
  },
  {
   "cell_type": "markdown",
   "metadata": {},
   "source": [
    "### Step 2:\n",
    "\n",
    "Apply preprocessing on the dataset (e.g. rectifying, moving average) and run TVLA on this preprocessed dataset. Plot the results and compare it with the results you got in ``Step 1.``"
   ]
  },
  {
   "cell_type": "code",
   "execution_count": null,
   "metadata": {},
   "outputs": [],
   "source": []
  }
 ],
 "metadata": {
  "kernelspec": {
   "display_name": "Python 3 (ipykernel)",
   "language": "python",
   "name": "python3"
  },
  "language_info": {
   "codemirror_mode": {
    "name": "ipython",
    "version": 3
   },
   "file_extension": ".py",
   "mimetype": "text/x-python",
   "name": "python",
   "nbconvert_exporter": "python",
   "pygments_lexer": "ipython3",
   "version": "3.10.8"
  }
 },
 "nbformat": 4,
 "nbformat_minor": 4
}
